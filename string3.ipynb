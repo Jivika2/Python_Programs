{
  "nbformat": 4,
  "nbformat_minor": 0,
  "metadata": {
    "colab": {
      "provenance": [],
      "authorship_tag": "ABX9TyOOkz9+Fa7lM2cfM1iG5TE7",
      "include_colab_link": true
    },
    "kernelspec": {
      "name": "python3",
      "display_name": "Python 3"
    },
    "language_info": {
      "name": "python"
    }
  },
  "cells": [
    {
      "cell_type": "markdown",
      "metadata": {
        "id": "view-in-github",
        "colab_type": "text"
      },
      "source": [
        "<a href=\"https://colab.research.google.com/github/Jivika2/Python_Programs/blob/my-new-branch/string3.ipynb\" target=\"_parent\"><img src=\"https://colab.research.google.com/assets/colab-badge.svg\" alt=\"Open In Colab\"/></a>"
      ]
    },
    {
      "cell_type": "markdown",
      "source": [
        "Remove all duplicates from a given string"
      ],
      "metadata": {
        "id": "9eR9DGRc4XSG"
      }
    },
    {
      "cell_type": "code",
      "source": [
        "from collections import OrderedDict\n",
        "def removeStrWithoutOrder(str):\n",
        "  return \"\".join(set(str))\n",
        "def removeDupWithOrder(str):\n",
        "  return \"\".join(OrderedDict.fromkeys(str))\n",
        "str=\"hariher\"\n",
        "print(removeStrWithoutOrder(str))\n",
        "print(removeDupWithOrder(str))"
      ],
      "metadata": {
        "colab": {
          "base_uri": "https://localhost:8080/"
        },
        "id": "Lkvkgoek4YUH",
        "outputId": "8c8063b8-5c57-4b47-f664-c790d66849e2"
      },
      "execution_count": 2,
      "outputs": [
        {
          "output_type": "stream",
          "name": "stdout",
          "text": [
            "iehar\n",
            "harie\n"
          ]
        }
      ]
    },
    {
      "cell_type": "code",
      "source": [
        "def removeDup(str):\n",
        "  s=set(str)\n",
        "  s=''.join(s)\n",
        "  print(\"Remove value without order:\",s)\n",
        "  t=''\n",
        "  for i in str:\n",
        "    if i in t:\n",
        "      pass\n",
        "    else:\n",
        "      t +=i\n",
        "  print(t,end='')\n",
        "str='Ramnabami'\n",
        "removeDup(str)"
      ],
      "metadata": {
        "colab": {
          "base_uri": "https://localhost:8080/"
        },
        "id": "kUNbfw0w7ZqN",
        "outputId": "8dd252be-48bd-4c7e-8f8e-e278b279a14b"
      },
      "execution_count": 4,
      "outputs": [
        {
          "output_type": "stream",
          "name": "stdout",
          "text": [
            "Remove value without order: Riambn\n",
            "Ramnbi"
          ]
        }
      ]
    }
  ]
}