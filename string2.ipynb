{
  "nbformat": 4,
  "nbformat_minor": 0,
  "metadata": {
    "colab": {
      "provenance": [],
      "authorship_tag": "ABX9TyOvhdljhXzgEQZQccV4ehE6",
      "include_colab_link": true
    },
    "kernelspec": {
      "name": "python3",
      "display_name": "Python 3"
    },
    "language_info": {
      "name": "python"
    }
  },
  "cells": [
    {
      "cell_type": "markdown",
      "metadata": {
        "id": "view-in-github",
        "colab_type": "text"
      },
      "source": [
        "<a href=\"https://colab.research.google.com/github/Jivika2/Python_Programs/blob/my-new-branch/string2.ipynb\" target=\"_parent\"><img src=\"https://colab.research.google.com/assets/colab-badge.svg\" alt=\"Open In Colab\"/></a>"
      ]
    },
    {
      "cell_type": "markdown",
      "source": [
        "Count the Number of matching characters in a pair of string"
      ],
      "metadata": {
        "id": "5h3PeYK0uLJV"
      }
    },
    {
      "cell_type": "code",
      "source": [
        "'''.In this approach set() is used to remove duplicate on a given string.\n",
        " 2.After that concept of set(intersection) is used on given string. 3.After that we find a length using len() method.'''\n",
        "def commonChar(str1,str2):\n",
        "  return(len((set(str1)).intersection(set(str2))))\n",
        "str1=\"vijay\"\n",
        "str2=\"vijamall\"\n",
        "no_of_common_char=commonChar(str1.lower(),str2.lower())\n",
        "print(\"Number of common character is:\",no_of_common_char)"
      ],
      "metadata": {
        "colab": {
          "base_uri": "https://localhost:8080/"
        },
        "id": "jU8u5c0iuMF9",
        "outputId": "cb6d284e-fa51-4aca-809c-0d736e2050af"
      },
      "execution_count": 10,
      "outputs": [
        {
          "output_type": "stream",
          "name": "stdout",
          "text": [
            "Number of common character is: 4\n"
          ]
        }
      ]
    },
    {
      "cell_type": "code",
      "source": [
        "def count(str1,str2):\n",
        "  char_count={}\n",
        "  for char in str1:\n",
        "    if char in char_count:\n",
        "      char_count[char] +=1\n",
        "    else:\n",
        "      char_count[char]=1\n",
        "  counter=0\n",
        "  for char in str2:\n",
        "    if char in char_count and char_count[char]>0:\n",
        "      counter+=1\n",
        "      char_count[char] -=1\n",
        "  return counter\n",
        "#str1='vanshalu'\n",
        "#str2='lajalu'\n",
        "str1 = 'aabcddekll12@'\n",
        "str2 = 'bb2211@55k'\n",
        "print(count(str1,str2))"
      ],
      "metadata": {
        "colab": {
          "base_uri": "https://localhost:8080/"
        },
        "id": "XpNkq1ypzFJK",
        "outputId": "ec015f55-b709-4f05-80b6-99bf5e001f73"
      },
      "execution_count": 16,
      "outputs": [
        {
          "output_type": "stream",
          "name": "stdout",
          "text": [
            "5\n"
          ]
        }
      ]
    },
    {
      "cell_type": "code",
      "source": [],
      "metadata": {
        "id": "4UeRSwam301S"
      },
      "execution_count": null,
      "outputs": []
    }
  ]
}