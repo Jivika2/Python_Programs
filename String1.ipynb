{
  "nbformat": 4,
  "nbformat_minor": 0,
  "metadata": {
    "colab": {
      "provenance": [],
      "authorship_tag": "ABX9TyMSFtk/rjpQtad7uCL8AsXi",
      "include_colab_link": true
    },
    "kernelspec": {
      "name": "python3",
      "display_name": "Python 3"
    },
    "language_info": {
      "name": "python"
    }
  },
  "cells": [
    {
      "cell_type": "markdown",
      "metadata": {
        "id": "view-in-github",
        "colab_type": "text"
      },
      "source": [
        "<a href=\"https://colab.research.google.com/github/Jivika2/Python_Programs/blob/my-new-branch/String1.ipynb\" target=\"_parent\"><img src=\"https://colab.research.google.com/assets/colab-badge.svg\" alt=\"Open In Colab\"/></a>"
      ]
    },
    {
      "cell_type": "markdown",
      "source": [
        "Python Program to Accept the Strings Which Contains all Vowels"
      ],
      "metadata": {
        "id": "ADbixUQeN-Zi"
      }
    },
    {
      "cell_type": "code",
      "source": [
        "'''Firstly, create set of vowels using set() function. Check for each character of the string is vowel or not, if vowel then add into the set s.\n",
        " After coming out of the loop, check length of the set s, if length of set s is equal to the length of the vowels set then string is accepted otherwise not. '''\n",
        "def check(string):\n",
        "  string=string.lower()\n",
        "  vowels=set('aeiou')\n",
        "  s=set({})\n",
        "  for char in string:\n",
        "    if char in vowels:\n",
        "      s.add(char)\n",
        "    else:\n",
        "      pass\n",
        "  if len(s)==len(vowels):\n",
        "    print(\"string is accepted\")\n",
        "  else:\n",
        "    print(\"string is not accepted\")\n",
        "#string=\"geeks\"\n",
        "string=\"SEEquoiaL\"\n",
        "check(string)"
      ],
      "metadata": {
        "colab": {
          "base_uri": "https://localhost:8080/"
        },
        "id": "NWcyezPXOHIW",
        "outputId": "711260d4-2efc-42f6-9503-b263e117b5a9"
      },
      "execution_count": 5,
      "outputs": [
        {
          "output_type": "stream",
          "name": "stdout",
          "text": [
            "string is accepted\n"
          ]
        }
      ]
    },
    {
      "cell_type": "code",
      "source": [
        "#Strings Which Contains all Vowels Using builtin\n",
        "def check(string):\n",
        "  string=string.replace(' ','')\n",
        "  string=string.lower()\n",
        "  vowel=[string.count('a'),string.count('e'),string.count('i'),string.count('o'),string.count('u')]\n",
        "  if vowel.count(0)>0:\n",
        "    print(\"Rejected\")\n",
        "  else:\n",
        "    print(\"Accepted\")\n",
        "string='SEptmnquoiaL'\n",
        "check(string)"
      ],
      "metadata": {
        "colab": {
          "base_uri": "https://localhost:8080/"
        },
        "id": "NFLeheVSQXaB",
        "outputId": "17d41189-69f4-4dfc-c9a9-c3bfe66a2118"
      },
      "execution_count": 7,
      "outputs": [
        {
          "output_type": "stream",
          "name": "stdout",
          "text": [
            "Accepted\n"
          ]
        }
      ]
    },
    {
      "cell_type": "code",
      "source": [
        "def check(string):\n",
        "  if len(set(string.lower()).intersection('aeiou'))>=5:\n",
        "    print(\"Accepted\")\n",
        "  else:\n",
        "    print(\"Rjected\")\n",
        "\n",
        "\n",
        "string=\"hameinolu\"\n",
        "check(string)"
      ],
      "metadata": {
        "colab": {
          "base_uri": "https://localhost:8080/"
        },
        "id": "UI2uWkifSAe6",
        "outputId": "9cafd377-8409-46ec-9b5c-875a17335639"
      },
      "execution_count": 10,
      "outputs": [
        {
          "output_type": "stream",
          "name": "stdout",
          "text": [
            "Accepted\n",
            "Accepted\n",
            "Not accepted\n"
          ]
        }
      ]
    },
    {
      "cell_type": "code",
      "source": [
        "def check(string):\n",
        "  if set(\"aeiou\").issubset(set(string.lower())):\n",
        "      return \"Accepted\"\n",
        "  return \"Not accepted\"\n",
        "string=\"helloiaulp\"\n",
        "print(check(string))\n",
        ""
      ],
      "metadata": {
        "colab": {
          "base_uri": "https://localhost:8080/"
        },
        "id": "LIH4gt1jS6Ed",
        "outputId": "4da7f207-f83f-45b4-ec34-497e9596040c"
      },
      "execution_count": 11,
      "outputs": [
        {
          "output_type": "stream",
          "name": "stdout",
          "text": [
            "Accepted\n"
          ]
        }
      ]
    },
    {
      "cell_type": "code",
      "source": [],
      "metadata": {
        "id": "3OkIsfjASbqW"
      },
      "execution_count": null,
      "outputs": []
    }
  ]
}