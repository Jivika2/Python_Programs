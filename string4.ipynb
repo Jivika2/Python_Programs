{
  "nbformat": 4,
  "nbformat_minor": 0,
  "metadata": {
    "colab": {
      "provenance": [],
      "authorship_tag": "ABX9TyMJU9FEHKA2WGr1yRjOUtmn",
      "include_colab_link": true
    },
    "kernelspec": {
      "name": "python3",
      "display_name": "Python 3"
    },
    "language_info": {
      "name": "python"
    }
  },
  "cells": [
    {
      "cell_type": "markdown",
      "metadata": {
        "id": "view-in-github",
        "colab_type": "text"
      },
      "source": [
        "<a href=\"https://colab.research.google.com/github/Jivika2/Python_Programs/blob/my-new-branch/string4.ipynb\" target=\"_parent\"><img src=\"https://colab.research.google.com/assets/colab-badge.svg\" alt=\"Open In Colab\"/></a>"
      ]
    },
    {
      "cell_type": "code",
      "execution_count": null,
      "metadata": {
        "id": "NdOMV74F9kcp"
      },
      "outputs": [],
      "source": []
    },
    {
      "cell_type": "markdown",
      "source": [
        "Least Frequent Character in String"
      ],
      "metadata": {
        "id": "DbhO_GUd95t6"
      }
    },
    {
      "cell_type": "code",
      "source": [
        "#Naive method + min()\n",
        "str=\"halment\"\n",
        "test_all={}\n",
        "for i in str:\n",
        "  if i in test_all:\n",
        "    test_all[i] +=1\n",
        "  else:\n",
        "    test_all[i]=1\n",
        "res=min(test_all,key=test_all.get)\n",
        "print(res)"
      ],
      "metadata": {
        "colab": {
          "base_uri": "https://localhost:8080/"
        },
        "id": "UPwk9-ai98vQ",
        "outputId": "a1bac004-2693-4a45-bba4-786939fc73fa"
      },
      "execution_count": 3,
      "outputs": [
        {
          "output_type": "stream",
          "name": "stdout",
          "text": [
            "h\n"
          ]
        }
      ]
    },
    {
      "cell_type": "code",
      "source": [
        "# Using collections.Counter() + min()\n",
        "from collections import Counter\n",
        "str=\"colab\"\n",
        "res=Counter(str)\n",
        "res=min(res,key=res.get)\n",
        "print(\"Least frequent character is:\",res)"
      ],
      "metadata": {
        "colab": {
          "base_uri": "https://localhost:8080/"
        },
        "id": "07nsVKXY_AbE",
        "outputId": "66e066c9-b62d-496e-a630-7db710bf75cb"
      },
      "execution_count": 4,
      "outputs": [
        {
          "output_type": "stream",
          "name": "stdout",
          "text": [
            "Least frequent character is: c\n"
          ]
        }
      ]
    },
    {
      "cell_type": "code",
      "source": [],
      "metadata": {
        "id": "IpOA_D0v_qUS"
      },
      "execution_count": null,
      "outputs": []
    }
  ]
}