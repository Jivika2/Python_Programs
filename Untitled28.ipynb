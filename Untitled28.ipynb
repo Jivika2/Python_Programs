{
  "nbformat": 4,
  "nbformat_minor": 0,
  "metadata": {
    "colab": {
      "provenance": [],
      "authorship_tag": "ABX9TyNYLKpdshes2S5ksvia0Ggr",
      "include_colab_link": true
    },
    "kernelspec": {
      "name": "python3",
      "display_name": "Python 3"
    },
    "language_info": {
      "name": "python"
    }
  },
  "cells": [
    {
      "cell_type": "markdown",
      "metadata": {
        "id": "view-in-github",
        "colab_type": "text"
      },
      "source": [
        "<a href=\"https://colab.research.google.com/github/Jivika2/Python_Programs/blob/my-new-branch/Untitled28.ipynb\" target=\"_parent\"><img src=\"https://colab.research.google.com/assets/colab-badge.svg\" alt=\"Open In Colab\"/></a>"
      ]
    },
    {
      "cell_type": "markdown",
      "source": [
        "Python program to print even length words in a string"
      ],
      "metadata": {
        "id": "vPZ59aP499FP"
      }
    },
    {
      "cell_type": "code",
      "source": [
        "#Calculate the length of each word using the len() function. If the length is even, then print the word.\n",
        "word=\"This is a python programmer\"\n",
        "s=word.split(' ')\n",
        "for i in s:\n",
        "  if len(i)%2==0:\n",
        "    print(i)"
      ],
      "metadata": {
        "colab": {
          "base_uri": "https://localhost:8080/"
        },
        "id": "hUeJ_lVr9_r_",
        "outputId": "f049cd1d-e852-436a-a1f2-03da7e8a0298"
      },
      "execution_count": 3,
      "outputs": [
        {
          "output_type": "stream",
          "name": "stdout",
          "text": [
            "This\n",
            "is\n",
            "python\n",
            "programmer\n"
          ]
        }
      ]
    },
    {
      "cell_type": "code",
      "source": [
        "'''Split the string using split() function. Iterate in the words of a string using for loop. Calculate the length of the word using len() function.\n",
        " If the length is even, then print the word.Below is the Python implementation of the above approach: '''\n",
        "def printWord(word):\n",
        "  s=word.split()\n",
        "  for i in s:\n",
        "    if len(i)%2==0:\n",
        "      print(i)\n",
        "word='Hello, how are you'\n",
        "printWord(word)"
      ],
      "metadata": {
        "colab": {
          "base_uri": "https://localhost:8080/"
        },
        "id": "U-JWXGkn-9n_",
        "outputId": "22366d0e-6bfc-43b7-8283-db3d511c3d25"
      },
      "execution_count": 5,
      "outputs": [
        {
          "output_type": "stream",
          "name": "stdout",
          "text": [
            "Hello,\n"
          ]
        }
      ]
    },
    {
      "cell_type": "code",
      "source": [
        "# Using the lambda function\n",
        "word=\"python programmin using object orinted programming\"\n",
        "s=word.split()\n",
        "l=list(filter(lambda x: (len(x)%2==0),s))\n",
        "print(l)"
      ],
      "metadata": {
        "colab": {
          "base_uri": "https://localhost:8080/"
        },
        "id": "PO_k0l3VAGt7",
        "outputId": "d58c2528-2e46-448d-ab3b-228e7f01ac6a"
      },
      "execution_count": 7,
      "outputs": [
        {
          "output_type": "stream",
          "name": "stdout",
          "text": [
            "['python', 'programmin', 'object']\n"
          ]
        }
      ]
    },
    {
      "cell_type": "code",
      "source": [
        "#Using list comprehension\n",
        "word=\"python programmin using object orinted programming\"\n",
        "s=word.split()\n",
        "lst=[i for i in s if len(i)%2==0 ]\n",
        "print(lst)\n"
      ],
      "metadata": {
        "colab": {
          "base_uri": "https://localhost:8080/"
        },
        "id": "5fxNhdAFA-YU",
        "outputId": "8eb78a85-a6bf-43b0-af61-63ea97b9382d"
      },
      "execution_count": 8,
      "outputs": [
        {
          "output_type": "stream",
          "name": "stdout",
          "text": [
            "['python', 'programmin', 'object']\n"
          ]
        }
      ]
    },
    {
      "cell_type": "code",
      "source": [
        "# Using the enumerate function\n",
        "word=\"python programmin using object orinted programming\"\n",
        "s=word.split()\n",
        "lst=[i for a,i in enumerate (s) if len(i)%2==0]\n",
        "print(lst)\n"
      ],
      "metadata": {
        "colab": {
          "base_uri": "https://localhost:8080/"
        },
        "id": "tP8sAkk_BbEw",
        "outputId": "8fdc02e7-b2d1-4463-ac44-2c0423d1ea1b"
      },
      "execution_count": 9,
      "outputs": [
        {
          "output_type": "stream",
          "name": "stdout",
          "text": [
            "['python', 'programmin', 'object']\n"
          ]
        }
      ]
    },
    {
      "cell_type": "code",
      "source": [
        "#Using Recursion\n",
        "def evenLengthWord(iter, lst):\n",
        "  if iter==len(lst):\n",
        "    return\n",
        "  if len(lst[iter])%2==0:\n",
        "    return lst[iter]\n",
        "  evenLengthWord(iter+1,lst)\n",
        "str=\"python programmin using object orinted programming\"\n",
        "s=str.split()\n",
        "l=[i for i in s]\n",
        "print(evenLengthWord(0,s))"
      ],
      "metadata": {
        "colab": {
          "base_uri": "https://localhost:8080/"
        },
        "id": "g64M0hVNCkIw",
        "outputId": "29f5a09d-49ea-4c57-c2c0-89604797e2f3"
      },
      "execution_count": 18,
      "outputs": [
        {
          "output_type": "stream",
          "name": "stdout",
          "text": [
            "python\n"
          ]
        }
      ]
    },
    {
      "cell_type": "code",
      "source": [],
      "metadata": {
        "id": "jPKLnO1ANbbc"
      },
      "execution_count": null,
      "outputs": []
    },
    {
      "cell_type": "code",
      "source": [
        "import itertools\n",
        "s=\"geeks for geek\"\n",
        "words = s.split(\" \")\n",
        "even_length_words = list(itertools.filterfalse(lambda x: len(x) % 2 != 0, words))\n",
        "print(even_length_words)"
      ],
      "metadata": {
        "colab": {
          "base_uri": "https://localhost:8080/"
        },
        "id": "YEmBXcnsD5NT",
        "outputId": "0f77ed94-0385-4fa7-af2f-51700f0f4b00"
      },
      "execution_count": 19,
      "outputs": [
        {
          "output_type": "stream",
          "name": "stdout",
          "text": [
            "['geek']\n"
          ]
        }
      ]
    }
  ]
}